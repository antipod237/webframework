{
  "nbformat": 4,
  "nbformat_minor": 0,
  "metadata": {
    "colab": {
      "name": "Untitled0.ipynb",
      "provenance": [],
      "collapsed_sections": [],
      "authorship_tag": "ABX9TyP25Ow82BslVU8RFHTgwIjr",
      "include_colab_link": true
    },
    "kernelspec": {
      "name": "python3",
      "display_name": "Python 3"
    },
    "language_info": {
      "name": "python"
    }
  },
  "cells": [
    {
      "cell_type": "markdown",
      "metadata": {
        "id": "view-in-github",
        "colab_type": "text"
      },
      "source": [
        "<a href=\"https://colab.research.google.com/github/antipod237/webframework/blob/master/Untitled0.ipynb\" target=\"_parent\"><img src=\"https://colab.research.google.com/assets/colab-badge.svg\" alt=\"Open In Colab\"/></a>"
      ]
    },
    {
      "cell_type": "code",
      "execution_count": 7,
      "metadata": {
        "colab": {
          "base_uri": "https://localhost:8080/"
        },
        "id": "kJn7Wbqfs64P",
        "outputId": "bc3d6cc0-b310-4c46-c973-111fc6ff6084"
      },
      "outputs": [
        {
          "output_type": "stream",
          "name": "stdout",
          "text": [
            "Requirement already satisfied: opencv-python in /usr/local/lib/python3.7/dist-packages (4.1.2.30)\n",
            "Requirement already satisfied: numpy>=1.14.5 in /usr/local/lib/python3.7/dist-packages (from opencv-python) (1.21.5)\n",
            "Requirement already satisfied: opencv-contrib-python in /usr/local/lib/python3.7/dist-packages (4.1.2.30)\n",
            "Requirement already satisfied: numpy>=1.14.5 in /usr/local/lib/python3.7/dist-packages (from opencv-contrib-python) (1.21.5)\n"
          ]
        }
      ],
      "source": [
        "!pip install opencv-python\n",
        "!pip install opencv-contrib-python"
      ]
    },
    {
      "cell_type": "code",
      "source": [
        "import cv2, os\n",
        "import numpy as np\n",
        "from PIL import Image\n",
        "\n",
        "cascadePath = \"haarcascade_frontalface_default.xml\"\n",
        "faceCascade = cv2.CascadeClassifier(cascadePath)\n",
        "recognizer = cv2.face.LBPHFaceRecognizer_create(1,8,8,8,123)"
      ],
      "metadata": {
        "id": "5RzTmGnE5fRP"
      },
      "execution_count": 10,
      "outputs": []
    },
    {
      "cell_type": "code",
      "source": [
        "def get_images(path):\n",
        "    # Ищем все фотографии и записываем их в image_paths\n",
        "    image_paths = [os.path.join(path, f) for f in os.listdir(path) if not f.endswith('.happy')]\n",
        "    \n",
        "    images = []\n",
        "    labels = []\n",
        "\n",
        "    for image_path in image_paths:\n",
        "        # Переводим изображение в черно-белый формат и приводим его к формату массива\n",
        "        gray = Image.open(image_path).convert('L')\n",
        "        image = np.array(gray, 'uint8')\n",
        "        # Из каждого имени файла извлекаем номер человека, изображенного на фото\n",
        "        subject_number = int(os.path.split(image_path)[1].split(\".\")[0].replace(\"subject\", \"\"))\n",
        "        \n",
        "        # Определяем области где есть лица\n",
        "        faces = faceCascade.detectMultiScale(image, scaleFactor=1.1, minNeighbors=5, minSize=(30, 30))\n",
        "        # Если лицо нашлось добавляем его в список images, а соответствующий ему номер в список labels\n",
        "        for (x, y, w, h) in faces:\n",
        "            images.append(image[y: y + h, x: x + w])\n",
        "            labels.append(subject_number)\n",
        "            # В окне показываем изображение\n",
        "            cv2.imshow(\"\", image[y: y + h, x: x + w])\n",
        "            cv2.waitKey(50)\n",
        "    return images, labels"
      ],
      "metadata": {
        "id": "SCtDyelns-QG"
      },
      "execution_count": 11,
      "outputs": []
    },
    {
      "cell_type": "code",
      "source": [
        "path = '/content/WdDNMFVxc4w.jpg'\n",
        "# Получаем лица и соответствующие им номера\n",
        "images, labels = get_images(path)\n",
        "cv2.destroyAllWindows()\n",
        "\n",
        "# Обучаем программу распознавать лица\n",
        "recognizer.train(images, np.array(labels))"
      ],
      "metadata": {
        "colab": {
          "base_uri": "https://localhost:8080/",
          "height": 356
        },
        "id": "E08gDcMc4bVK",
        "outputId": "92be06ed-30a1-4283-ab88-8087e90ec7dd"
      },
      "execution_count": 13,
      "outputs": [
        {
          "output_type": "error",
          "ename": "NotADirectoryError",
          "evalue": "ignored",
          "traceback": [
            "\u001b[0;31m---------------------------------------------------------------------------\u001b[0m",
            "\u001b[0;31mNotADirectoryError\u001b[0m                        Traceback (most recent call last)",
            "\u001b[0;32m<ipython-input-13-0220d61aa47c>\u001b[0m in \u001b[0;36m<module>\u001b[0;34m()\u001b[0m\n\u001b[1;32m      1\u001b[0m \u001b[0mpath\u001b[0m \u001b[0;34m=\u001b[0m \u001b[0;34m'/content/WdDNMFVxc4w.jpg'\u001b[0m\u001b[0;34m\u001b[0m\u001b[0;34m\u001b[0m\u001b[0m\n\u001b[1;32m      2\u001b[0m \u001b[0;31m# Получаем лица и соответствующие им номера\u001b[0m\u001b[0;34m\u001b[0m\u001b[0;34m\u001b[0m\u001b[0;34m\u001b[0m\u001b[0m\n\u001b[0;32m----> 3\u001b[0;31m \u001b[0mimages\u001b[0m\u001b[0;34m,\u001b[0m \u001b[0mlabels\u001b[0m \u001b[0;34m=\u001b[0m \u001b[0mget_images\u001b[0m\u001b[0;34m(\u001b[0m\u001b[0mpath\u001b[0m\u001b[0;34m)\u001b[0m\u001b[0;34m\u001b[0m\u001b[0;34m\u001b[0m\u001b[0m\n\u001b[0m\u001b[1;32m      4\u001b[0m \u001b[0mcv2\u001b[0m\u001b[0;34m.\u001b[0m\u001b[0mdestroyAllWindows\u001b[0m\u001b[0;34m(\u001b[0m\u001b[0;34m)\u001b[0m\u001b[0;34m\u001b[0m\u001b[0;34m\u001b[0m\u001b[0m\n\u001b[1;32m      5\u001b[0m \u001b[0;34m\u001b[0m\u001b[0m\n",
            "\u001b[0;32m<ipython-input-11-993ff1232848>\u001b[0m in \u001b[0;36mget_images\u001b[0;34m(path)\u001b[0m\n\u001b[1;32m      1\u001b[0m \u001b[0;32mdef\u001b[0m \u001b[0mget_images\u001b[0m\u001b[0;34m(\u001b[0m\u001b[0mpath\u001b[0m\u001b[0;34m)\u001b[0m\u001b[0;34m:\u001b[0m\u001b[0;34m\u001b[0m\u001b[0;34m\u001b[0m\u001b[0m\n\u001b[1;32m      2\u001b[0m     \u001b[0;31m# Ищем все фотографии и записываем их в image_paths\u001b[0m\u001b[0;34m\u001b[0m\u001b[0;34m\u001b[0m\u001b[0;34m\u001b[0m\u001b[0m\n\u001b[0;32m----> 3\u001b[0;31m     \u001b[0mimage_paths\u001b[0m \u001b[0;34m=\u001b[0m \u001b[0;34m[\u001b[0m\u001b[0mos\u001b[0m\u001b[0;34m.\u001b[0m\u001b[0mpath\u001b[0m\u001b[0;34m.\u001b[0m\u001b[0mjoin\u001b[0m\u001b[0;34m(\u001b[0m\u001b[0mpath\u001b[0m\u001b[0;34m,\u001b[0m \u001b[0mf\u001b[0m\u001b[0;34m)\u001b[0m \u001b[0;32mfor\u001b[0m \u001b[0mf\u001b[0m \u001b[0;32min\u001b[0m \u001b[0mos\u001b[0m\u001b[0;34m.\u001b[0m\u001b[0mlistdir\u001b[0m\u001b[0;34m(\u001b[0m\u001b[0mpath\u001b[0m\u001b[0;34m)\u001b[0m \u001b[0;32mif\u001b[0m \u001b[0;32mnot\u001b[0m \u001b[0mf\u001b[0m\u001b[0;34m.\u001b[0m\u001b[0mendswith\u001b[0m\u001b[0;34m(\u001b[0m\u001b[0;34m'.happy'\u001b[0m\u001b[0;34m)\u001b[0m\u001b[0;34m]\u001b[0m\u001b[0;34m\u001b[0m\u001b[0;34m\u001b[0m\u001b[0m\n\u001b[0m\u001b[1;32m      4\u001b[0m \u001b[0;34m\u001b[0m\u001b[0m\n\u001b[1;32m      5\u001b[0m     \u001b[0mimages\u001b[0m \u001b[0;34m=\u001b[0m \u001b[0;34m[\u001b[0m\u001b[0;34m]\u001b[0m\u001b[0;34m\u001b[0m\u001b[0;34m\u001b[0m\u001b[0m\n",
            "\u001b[0;31mNotADirectoryError\u001b[0m: [Errno 20] Not a directory: '/content/WdDNMFVxc4w.jpg'"
          ]
        }
      ]
    },
    {
      "cell_type": "code",
      "source": [
        "# Создаем список фотографий для распознавания\n",
        "image_paths = [os.path.join(path, f) for f in os.listdir(path) if f.endswith('.happy')]\n",
        "\n",
        "for image_path in image_paths:\n",
        "    # Ищем лица на фотографиях\n",
        "    gray = Image.open(image_path).convert('L')\n",
        "    image = np.array(gray, 'uint8')\n",
        "    faces = faceCascade.detectMultiScale(image, scaleFactor=1.1, minNeighbors=5, minSize=(30, 30))\n",
        "\n",
        "    \n",
        "    for (x, y, w, h) in faces:\n",
        "        # Если лица найдены, пытаемся распознать их\n",
        "        # Функция  recognizer.predict в случае успешного распознавания возвращает номер и параметр confidence,\n",
        "        # этот параметр указывает на уверенность алгоритма, что это именно тот человек, чем он меньше, тем больше уверенность\n",
        "        number_predicted, conf = recognizer.predict(image[y: y + h, x: x + w])\n",
        "\n",
        "        # Извлекаем настоящий номер человека на фото и сравниваем с тем, что выдал алгоритм\n",
        "        number_actual = int(os.path.split(image_path)[1].split(\".\")[0].replace(\"subject\", \"\"))\n",
        "        \n",
        "        if number_actual == number_predicted:\n",
        "            print \"{} is Correctly Recognized with confidence {}\".format(number_actual, conf)\n",
        "        else:\n",
        "            print \"{} is Incorrect Recognized as {}\".format(number_actual, number_predicted)\n",
        "        cv2.imshow(\"Recognizing Face\", image[y: y + h, x: x + w])\n",
        "        cv2.waitKey(1000)"
      ],
      "metadata": {
        "id": "D9Krm--A62Gg"
      },
      "execution_count": null,
      "outputs": []
    },
    {
      "cell_type": "code",
      "source": [
        ""
      ],
      "metadata": {
        "id": "Xas5JU9562JY"
      },
      "execution_count": null,
      "outputs": []
    },
    {
      "cell_type": "code",
      "source": [
        "def viewImage(image, name_of_window):\n",
        "    cv2.namedWindow(name_of_window, cv2.WINDOW_NORMAL)\n",
        "    cv2.imshow(name_of_window, image)\n",
        "    cv2.waitKey(0)\n",
        "    cv2.destroyAllWindows()"
      ],
      "metadata": {
        "id": "eu3OWse0t1fL"
      },
      "execution_count": 3,
      "outputs": []
    },
    {
      "cell_type": "code",
      "source": [
        "image_path = \"/content/WdDNMFVxc4w.jpg\"\n",
        "face_cascade = cv2.CascadeClassifier(\"haarcascade_frontalface_default.xml\")\n",
        "recognizer = cv2.createLBPHFaceRecognizer(1,8,8,8,123)\n",
        "image = cv2.imread(image_path)\n",
        "gray = cv2.cvtColor(image, cv2.COLOR_BGR2GRAY)\n",
        "faces = face_cascade.detectMultiScale(\n",
        "    gray,\n",
        "    scaleFactor= 1.1,\n",
        "    minNeighbors= 2,\n",
        "    minSize=(10, 10)\n",
        ")\n",
        "faces_detected = \"Лиц обнаружено: \" + format(len(faces))\n",
        "print(faces_detected)\n",
        "# Рисуем квадраты вокруг лиц\n",
        "for (x, y, w, h) in faces:\n",
        "    cv2.rectangle(image, (x, y), (x+w, y+h), (255, 255, 0), 2)\n",
        "viewImage(image,faces_detected)"
      ],
      "metadata": {
        "colab": {
          "base_uri": "https://localhost:8080/",
          "height": 235
        },
        "id": "3NmJBFirs-NS",
        "outputId": "aadfc1b6-cc38-4580-95e5-423174fa52f0"
      },
      "execution_count": 4,
      "outputs": [
        {
          "output_type": "error",
          "ename": "error",
          "evalue": "ignored",
          "traceback": [
            "\u001b[0;31m---------------------------------------------------------------------------\u001b[0m",
            "\u001b[0;31merror\u001b[0m                                     Traceback (most recent call last)",
            "\u001b[0;32m<ipython-input-4-f8d7cf342b5e>\u001b[0m in \u001b[0;36m<module>\u001b[0;34m()\u001b[0m\n\u001b[1;32m      7\u001b[0m     \u001b[0mscaleFactor\u001b[0m\u001b[0;34m=\u001b[0m \u001b[0;36m1.1\u001b[0m\u001b[0;34m,\u001b[0m\u001b[0;34m\u001b[0m\u001b[0;34m\u001b[0m\u001b[0m\n\u001b[1;32m      8\u001b[0m     \u001b[0mminNeighbors\u001b[0m\u001b[0;34m=\u001b[0m \u001b[0;36m2\u001b[0m\u001b[0;34m,\u001b[0m\u001b[0;34m\u001b[0m\u001b[0;34m\u001b[0m\u001b[0m\n\u001b[0;32m----> 9\u001b[0;31m     \u001b[0mminSize\u001b[0m\u001b[0;34m=\u001b[0m\u001b[0;34m(\u001b[0m\u001b[0;36m10\u001b[0m\u001b[0;34m,\u001b[0m \u001b[0;36m10\u001b[0m\u001b[0;34m)\u001b[0m\u001b[0;34m\u001b[0m\u001b[0;34m\u001b[0m\u001b[0m\n\u001b[0m\u001b[1;32m     10\u001b[0m )\n\u001b[1;32m     11\u001b[0m \u001b[0mfaces_detected\u001b[0m \u001b[0;34m=\u001b[0m \u001b[0;34m\"Лиц обнаружено: \"\u001b[0m \u001b[0;34m+\u001b[0m \u001b[0mformat\u001b[0m\u001b[0;34m(\u001b[0m\u001b[0mlen\u001b[0m\u001b[0;34m(\u001b[0m\u001b[0mfaces\u001b[0m\u001b[0;34m)\u001b[0m\u001b[0;34m)\u001b[0m\u001b[0;34m\u001b[0m\u001b[0;34m\u001b[0m\u001b[0m\n",
            "\u001b[0;31merror\u001b[0m: OpenCV(4.1.2) /io/opencv/modules/objdetect/src/cascadedetect.cpp:1689: error: (-215:Assertion failed) !empty() in function 'detectMultiScale'\n"
          ]
        }
      ]
    }
  ]
}